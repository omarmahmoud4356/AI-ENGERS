{
  "nbformat": 4,
  "nbformat_minor": 0,
  "metadata": {
    "colab": {
      "provenance": []
    },
    "kernelspec": {
      "name": "python3",
      "display_name": "Python 3"
    },
    "language_info": {
      "name": "python"
    }
  },
  "cells": [
    {
      "cell_type": "markdown",
      "source": [
        "Import **libraries**"
      ],
      "metadata": {
        "id": "dXBSr-j_6BDB"
      }
    },
    {
      "cell_type": "code",
      "source": [
        "import numpy as np\n",
        "import pandas as pd\n",
        "\n",
        "from sklearn.svm import SVC\n",
        "from sklearn.neighbors import KNeighborsClassifier\n",
        "from sklearn.ensemble import RandomForestClassifier\n",
        "from sklearn.tree import DecisionTreeClassifier\n",
        "\n",
        "\n",
        "import matplotlib.pyplot as plt # for data visualization\n",
        "import seaborn as sns # for statistical data visualization\n",
        "\n",
        "# import metrics to compute accuracy (Evaluate)\n",
        "from sklearn.metrics import accuracy_score, confusion_matrix,classification_report\n",
        "from sklearn.model_selection import cross_val_score, GridSearchCV\n",
        "from sklearn.model_selection import train_test_split\n",
        "from sklearn.metrics import mean_squared_error\n",
        "from sklearn import metrics\n",
        "\n",
        "from sklearn.datasets import load_iris"
      ],
      "metadata": {
        "id": "KbkUxMiz7d0-"
      },
      "execution_count": 21,
      "outputs": []
    },
    {
      "cell_type": "markdown",
      "source": [
        "Import **Data**"
      ],
      "metadata": {
        "id": "-JFm3BeB7o2L"
      }
    },
    {
      "cell_type": "code",
      "source": [
        "path='/content/drive/MyDrive/Dataset/Real Data/Room1/Room1-train.csv'\n",
        "data=pd.read_csv(path)\n",
        "data.head(1300)"
      ],
      "metadata": {
        "colab": {
          "base_uri": "https://localhost:8080/",
          "height": 443
        },
        "id": "g4Pf0ouo7seQ",
        "outputId": "8a27352a-16db-4a55-d45f-5f3206ba5a81"
      },
      "execution_count": 2,
      "outputs": [
        {
          "output_type": "execute_result",
          "data": {
            "text/plain": [
              "      24:d3:f2:a7:b3:cd  b4:74:9f:ba:83:34  b0:89:00:74:7c:84  \\\n",
              "0                   -82                -48                -64   \n",
              "1                   -81                -69                -74   \n",
              "2                   -69                -64                -74   \n",
              "3                   -69                -64                -74   \n",
              "4                  -100                -45                -54   \n",
              "...                 ...                ...                ...   \n",
              "1251                -64                -74                -63   \n",
              "1252                -64                -80                -64   \n",
              "1253                -64                -75                -64   \n",
              "1254                -64                -74                -62   \n",
              "1255                -64                -75                -63   \n",
              "\n",
              "      9c:d6:43:cb:23:c0  30:99:35:90:32:9f  44:fb:5a:d2:d0:61  \\\n",
              "0                   -55               -100               -100   \n",
              "1                   -72               -100               -100   \n",
              "2                   -69                -67               -100   \n",
              "3                   -69                -67               -100   \n",
              "4                   -57               -100               -100   \n",
              "...                 ...                ...                ...   \n",
              "1251                -66                -88               -100   \n",
              "1252                -66                -87               -100   \n",
              "1253                -68               -100               -100   \n",
              "1254                -68                -87               -100   \n",
              "1255                -66               -100               -100   \n",
              "\n",
              "      d8:0d:17:db:be:92  10:10:81:ad:c4:92  f4:e3:fb:90:3a:a8  indoor  \n",
              "0                   -95               -100               -100       1  \n",
              "1                  -100               -100               -100       1  \n",
              "2                  -100               -100               -100       1  \n",
              "3                  -100               -100               -100       1  \n",
              "4                   -91               -100               -100       1  \n",
              "...                 ...                ...                ...     ...  \n",
              "1251                -95                -66                -83       0  \n",
              "1252                -76                -66                -76       0  \n",
              "1253               -100                -66                -80       0  \n",
              "1254               -100                -66                -77       0  \n",
              "1255                -76                -66                -80       0  \n",
              "\n",
              "[1256 rows x 10 columns]"
            ],
            "text/html": [
              "\n",
              "  <div id=\"df-3ad2ea6d-196b-4b69-83e6-d2d5f0c7953a\" class=\"colab-df-container\">\n",
              "    <div>\n",
              "<style scoped>\n",
              "    .dataframe tbody tr th:only-of-type {\n",
              "        vertical-align: middle;\n",
              "    }\n",
              "\n",
              "    .dataframe tbody tr th {\n",
              "        vertical-align: top;\n",
              "    }\n",
              "\n",
              "    .dataframe thead th {\n",
              "        text-align: right;\n",
              "    }\n",
              "</style>\n",
              "<table border=\"1\" class=\"dataframe\">\n",
              "  <thead>\n",
              "    <tr style=\"text-align: right;\">\n",
              "      <th></th>\n",
              "      <th>24:d3:f2:a7:b3:cd</th>\n",
              "      <th>b4:74:9f:ba:83:34</th>\n",
              "      <th>b0:89:00:74:7c:84</th>\n",
              "      <th>9c:d6:43:cb:23:c0</th>\n",
              "      <th>30:99:35:90:32:9f</th>\n",
              "      <th>44:fb:5a:d2:d0:61</th>\n",
              "      <th>d8:0d:17:db:be:92</th>\n",
              "      <th>10:10:81:ad:c4:92</th>\n",
              "      <th>f4:e3:fb:90:3a:a8</th>\n",
              "      <th>indoor</th>\n",
              "    </tr>\n",
              "  </thead>\n",
              "  <tbody>\n",
              "    <tr>\n",
              "      <th>0</th>\n",
              "      <td>-82</td>\n",
              "      <td>-48</td>\n",
              "      <td>-64</td>\n",
              "      <td>-55</td>\n",
              "      <td>-100</td>\n",
              "      <td>-100</td>\n",
              "      <td>-95</td>\n",
              "      <td>-100</td>\n",
              "      <td>-100</td>\n",
              "      <td>1</td>\n",
              "    </tr>\n",
              "    <tr>\n",
              "      <th>1</th>\n",
              "      <td>-81</td>\n",
              "      <td>-69</td>\n",
              "      <td>-74</td>\n",
              "      <td>-72</td>\n",
              "      <td>-100</td>\n",
              "      <td>-100</td>\n",
              "      <td>-100</td>\n",
              "      <td>-100</td>\n",
              "      <td>-100</td>\n",
              "      <td>1</td>\n",
              "    </tr>\n",
              "    <tr>\n",
              "      <th>2</th>\n",
              "      <td>-69</td>\n",
              "      <td>-64</td>\n",
              "      <td>-74</td>\n",
              "      <td>-69</td>\n",
              "      <td>-67</td>\n",
              "      <td>-100</td>\n",
              "      <td>-100</td>\n",
              "      <td>-100</td>\n",
              "      <td>-100</td>\n",
              "      <td>1</td>\n",
              "    </tr>\n",
              "    <tr>\n",
              "      <th>3</th>\n",
              "      <td>-69</td>\n",
              "      <td>-64</td>\n",
              "      <td>-74</td>\n",
              "      <td>-69</td>\n",
              "      <td>-67</td>\n",
              "      <td>-100</td>\n",
              "      <td>-100</td>\n",
              "      <td>-100</td>\n",
              "      <td>-100</td>\n",
              "      <td>1</td>\n",
              "    </tr>\n",
              "    <tr>\n",
              "      <th>4</th>\n",
              "      <td>-100</td>\n",
              "      <td>-45</td>\n",
              "      <td>-54</td>\n",
              "      <td>-57</td>\n",
              "      <td>-100</td>\n",
              "      <td>-100</td>\n",
              "      <td>-91</td>\n",
              "      <td>-100</td>\n",
              "      <td>-100</td>\n",
              "      <td>1</td>\n",
              "    </tr>\n",
              "    <tr>\n",
              "      <th>...</th>\n",
              "      <td>...</td>\n",
              "      <td>...</td>\n",
              "      <td>...</td>\n",
              "      <td>...</td>\n",
              "      <td>...</td>\n",
              "      <td>...</td>\n",
              "      <td>...</td>\n",
              "      <td>...</td>\n",
              "      <td>...</td>\n",
              "      <td>...</td>\n",
              "    </tr>\n",
              "    <tr>\n",
              "      <th>1251</th>\n",
              "      <td>-64</td>\n",
              "      <td>-74</td>\n",
              "      <td>-63</td>\n",
              "      <td>-66</td>\n",
              "      <td>-88</td>\n",
              "      <td>-100</td>\n",
              "      <td>-95</td>\n",
              "      <td>-66</td>\n",
              "      <td>-83</td>\n",
              "      <td>0</td>\n",
              "    </tr>\n",
              "    <tr>\n",
              "      <th>1252</th>\n",
              "      <td>-64</td>\n",
              "      <td>-80</td>\n",
              "      <td>-64</td>\n",
              "      <td>-66</td>\n",
              "      <td>-87</td>\n",
              "      <td>-100</td>\n",
              "      <td>-76</td>\n",
              "      <td>-66</td>\n",
              "      <td>-76</td>\n",
              "      <td>0</td>\n",
              "    </tr>\n",
              "    <tr>\n",
              "      <th>1253</th>\n",
              "      <td>-64</td>\n",
              "      <td>-75</td>\n",
              "      <td>-64</td>\n",
              "      <td>-68</td>\n",
              "      <td>-100</td>\n",
              "      <td>-100</td>\n",
              "      <td>-100</td>\n",
              "      <td>-66</td>\n",
              "      <td>-80</td>\n",
              "      <td>0</td>\n",
              "    </tr>\n",
              "    <tr>\n",
              "      <th>1254</th>\n",
              "      <td>-64</td>\n",
              "      <td>-74</td>\n",
              "      <td>-62</td>\n",
              "      <td>-68</td>\n",
              "      <td>-87</td>\n",
              "      <td>-100</td>\n",
              "      <td>-100</td>\n",
              "      <td>-66</td>\n",
              "      <td>-77</td>\n",
              "      <td>0</td>\n",
              "    </tr>\n",
              "    <tr>\n",
              "      <th>1255</th>\n",
              "      <td>-64</td>\n",
              "      <td>-75</td>\n",
              "      <td>-63</td>\n",
              "      <td>-66</td>\n",
              "      <td>-100</td>\n",
              "      <td>-100</td>\n",
              "      <td>-76</td>\n",
              "      <td>-66</td>\n",
              "      <td>-80</td>\n",
              "      <td>0</td>\n",
              "    </tr>\n",
              "  </tbody>\n",
              "</table>\n",
              "<p>1256 rows × 10 columns</p>\n",
              "</div>\n",
              "    <div class=\"colab-df-buttons\">\n",
              "\n",
              "  <div class=\"colab-df-container\">\n",
              "    <button class=\"colab-df-convert\" onclick=\"convertToInteractive('df-3ad2ea6d-196b-4b69-83e6-d2d5f0c7953a')\"\n",
              "            title=\"Convert this dataframe to an interactive table.\"\n",
              "            style=\"display:none;\">\n",
              "\n",
              "  <svg xmlns=\"http://www.w3.org/2000/svg\" height=\"24px\" viewBox=\"0 -960 960 960\">\n",
              "    <path d=\"M120-120v-720h720v720H120Zm60-500h600v-160H180v160Zm220 220h160v-160H400v160Zm0 220h160v-160H400v160ZM180-400h160v-160H180v160Zm440 0h160v-160H620v160ZM180-180h160v-160H180v160Zm440 0h160v-160H620v160Z\"/>\n",
              "  </svg>\n",
              "    </button>\n",
              "\n",
              "  <style>\n",
              "    .colab-df-container {\n",
              "      display:flex;\n",
              "      gap: 12px;\n",
              "    }\n",
              "\n",
              "    .colab-df-convert {\n",
              "      background-color: #E8F0FE;\n",
              "      border: none;\n",
              "      border-radius: 50%;\n",
              "      cursor: pointer;\n",
              "      display: none;\n",
              "      fill: #1967D2;\n",
              "      height: 32px;\n",
              "      padding: 0 0 0 0;\n",
              "      width: 32px;\n",
              "    }\n",
              "\n",
              "    .colab-df-convert:hover {\n",
              "      background-color: #E2EBFA;\n",
              "      box-shadow: 0px 1px 2px rgba(60, 64, 67, 0.3), 0px 1px 3px 1px rgba(60, 64, 67, 0.15);\n",
              "      fill: #174EA6;\n",
              "    }\n",
              "\n",
              "    .colab-df-buttons div {\n",
              "      margin-bottom: 4px;\n",
              "    }\n",
              "\n",
              "    [theme=dark] .colab-df-convert {\n",
              "      background-color: #3B4455;\n",
              "      fill: #D2E3FC;\n",
              "    }\n",
              "\n",
              "    [theme=dark] .colab-df-convert:hover {\n",
              "      background-color: #434B5C;\n",
              "      box-shadow: 0px 1px 3px 1px rgba(0, 0, 0, 0.15);\n",
              "      filter: drop-shadow(0px 1px 2px rgba(0, 0, 0, 0.3));\n",
              "      fill: #FFFFFF;\n",
              "    }\n",
              "  </style>\n",
              "\n",
              "    <script>\n",
              "      const buttonEl =\n",
              "        document.querySelector('#df-3ad2ea6d-196b-4b69-83e6-d2d5f0c7953a button.colab-df-convert');\n",
              "      buttonEl.style.display =\n",
              "        google.colab.kernel.accessAllowed ? 'block' : 'none';\n",
              "\n",
              "      async function convertToInteractive(key) {\n",
              "        const element = document.querySelector('#df-3ad2ea6d-196b-4b69-83e6-d2d5f0c7953a');\n",
              "        const dataTable =\n",
              "          await google.colab.kernel.invokeFunction('convertToInteractive',\n",
              "                                                    [key], {});\n",
              "        if (!dataTable) return;\n",
              "\n",
              "        const docLinkHtml = 'Like what you see? Visit the ' +\n",
              "          '<a target=\"_blank\" href=https://colab.research.google.com/notebooks/data_table.ipynb>data table notebook</a>'\n",
              "          + ' to learn more about interactive tables.';\n",
              "        element.innerHTML = '';\n",
              "        dataTable['output_type'] = 'display_data';\n",
              "        await google.colab.output.renderOutput(dataTable, element);\n",
              "        const docLink = document.createElement('div');\n",
              "        docLink.innerHTML = docLinkHtml;\n",
              "        element.appendChild(docLink);\n",
              "      }\n",
              "    </script>\n",
              "  </div>\n",
              "\n",
              "\n",
              "<div id=\"df-27a9befb-dab5-428e-8d7d-a55c6aaad6f6\">\n",
              "  <button class=\"colab-df-quickchart\" onclick=\"quickchart('df-27a9befb-dab5-428e-8d7d-a55c6aaad6f6')\"\n",
              "            title=\"Suggest charts\"\n",
              "            style=\"display:none;\">\n",
              "\n",
              "<svg xmlns=\"http://www.w3.org/2000/svg\" height=\"24px\"viewBox=\"0 0 24 24\"\n",
              "     width=\"24px\">\n",
              "    <g>\n",
              "        <path d=\"M19 3H5c-1.1 0-2 .9-2 2v14c0 1.1.9 2 2 2h14c1.1 0 2-.9 2-2V5c0-1.1-.9-2-2-2zM9 17H7v-7h2v7zm4 0h-2V7h2v10zm4 0h-2v-4h2v4z\"/>\n",
              "    </g>\n",
              "</svg>\n",
              "  </button>\n",
              "\n",
              "<style>\n",
              "  .colab-df-quickchart {\n",
              "      --bg-color: #E8F0FE;\n",
              "      --fill-color: #1967D2;\n",
              "      --hover-bg-color: #E2EBFA;\n",
              "      --hover-fill-color: #174EA6;\n",
              "      --disabled-fill-color: #AAA;\n",
              "      --disabled-bg-color: #DDD;\n",
              "  }\n",
              "\n",
              "  [theme=dark] .colab-df-quickchart {\n",
              "      --bg-color: #3B4455;\n",
              "      --fill-color: #D2E3FC;\n",
              "      --hover-bg-color: #434B5C;\n",
              "      --hover-fill-color: #FFFFFF;\n",
              "      --disabled-bg-color: #3B4455;\n",
              "      --disabled-fill-color: #666;\n",
              "  }\n",
              "\n",
              "  .colab-df-quickchart {\n",
              "    background-color: var(--bg-color);\n",
              "    border: none;\n",
              "    border-radius: 50%;\n",
              "    cursor: pointer;\n",
              "    display: none;\n",
              "    fill: var(--fill-color);\n",
              "    height: 32px;\n",
              "    padding: 0;\n",
              "    width: 32px;\n",
              "  }\n",
              "\n",
              "  .colab-df-quickchart:hover {\n",
              "    background-color: var(--hover-bg-color);\n",
              "    box-shadow: 0 1px 2px rgba(60, 64, 67, 0.3), 0 1px 3px 1px rgba(60, 64, 67, 0.15);\n",
              "    fill: var(--button-hover-fill-color);\n",
              "  }\n",
              "\n",
              "  .colab-df-quickchart-complete:disabled,\n",
              "  .colab-df-quickchart-complete:disabled:hover {\n",
              "    background-color: var(--disabled-bg-color);\n",
              "    fill: var(--disabled-fill-color);\n",
              "    box-shadow: none;\n",
              "  }\n",
              "\n",
              "  .colab-df-spinner {\n",
              "    border: 2px solid var(--fill-color);\n",
              "    border-color: transparent;\n",
              "    border-bottom-color: var(--fill-color);\n",
              "    animation:\n",
              "      spin 1s steps(1) infinite;\n",
              "  }\n",
              "\n",
              "  @keyframes spin {\n",
              "    0% {\n",
              "      border-color: transparent;\n",
              "      border-bottom-color: var(--fill-color);\n",
              "      border-left-color: var(--fill-color);\n",
              "    }\n",
              "    20% {\n",
              "      border-color: transparent;\n",
              "      border-left-color: var(--fill-color);\n",
              "      border-top-color: var(--fill-color);\n",
              "    }\n",
              "    30% {\n",
              "      border-color: transparent;\n",
              "      border-left-color: var(--fill-color);\n",
              "      border-top-color: var(--fill-color);\n",
              "      border-right-color: var(--fill-color);\n",
              "    }\n",
              "    40% {\n",
              "      border-color: transparent;\n",
              "      border-right-color: var(--fill-color);\n",
              "      border-top-color: var(--fill-color);\n",
              "    }\n",
              "    60% {\n",
              "      border-color: transparent;\n",
              "      border-right-color: var(--fill-color);\n",
              "    }\n",
              "    80% {\n",
              "      border-color: transparent;\n",
              "      border-right-color: var(--fill-color);\n",
              "      border-bottom-color: var(--fill-color);\n",
              "    }\n",
              "    90% {\n",
              "      border-color: transparent;\n",
              "      border-bottom-color: var(--fill-color);\n",
              "    }\n",
              "  }\n",
              "</style>\n",
              "\n",
              "  <script>\n",
              "    async function quickchart(key) {\n",
              "      const quickchartButtonEl =\n",
              "        document.querySelector('#' + key + ' button');\n",
              "      quickchartButtonEl.disabled = true;  // To prevent multiple clicks.\n",
              "      quickchartButtonEl.classList.add('colab-df-spinner');\n",
              "      try {\n",
              "        const charts = await google.colab.kernel.invokeFunction(\n",
              "            'suggestCharts', [key], {});\n",
              "      } catch (error) {\n",
              "        console.error('Error during call to suggestCharts:', error);\n",
              "      }\n",
              "      quickchartButtonEl.classList.remove('colab-df-spinner');\n",
              "      quickchartButtonEl.classList.add('colab-df-quickchart-complete');\n",
              "    }\n",
              "    (() => {\n",
              "      let quickchartButtonEl =\n",
              "        document.querySelector('#df-27a9befb-dab5-428e-8d7d-a55c6aaad6f6 button');\n",
              "      quickchartButtonEl.style.display =\n",
              "        google.colab.kernel.accessAllowed ? 'block' : 'none';\n",
              "    })();\n",
              "  </script>\n",
              "</div>\n",
              "\n",
              "    </div>\n",
              "  </div>\n"
            ]
          },
          "metadata": {},
          "execution_count": 2
        }
      ]
    },
    {
      "cell_type": "markdown",
      "source": [
        "**Processing** **Data**"
      ],
      "metadata": {
        "id": "g5szGz0p7vAe"
      }
    },
    {
      "cell_type": "code",
      "source": [
        "data.isnull().values.any()"
      ],
      "metadata": {
        "colab": {
          "base_uri": "https://localhost:8080/"
        },
        "id": "Nd53keAj_EsN",
        "outputId": "cdb091c4-3714-4d07-dfe2-d50e61ae459a"
      },
      "execution_count": 3,
      "outputs": [
        {
          "output_type": "execute_result",
          "data": {
            "text/plain": [
              "False"
            ]
          },
          "metadata": {},
          "execution_count": 3
        }
      ]
    },
    {
      "cell_type": "code",
      "source": [
        "data.shape"
      ],
      "metadata": {
        "colab": {
          "base_uri": "https://localhost:8080/"
        },
        "id": "D9IQQPlm_IBV",
        "outputId": "26bdeb10-ba6c-45f5-9025-37852487df66"
      },
      "execution_count": 4,
      "outputs": [
        {
          "output_type": "execute_result",
          "data": {
            "text/plain": [
              "(1256, 10)"
            ]
          },
          "metadata": {},
          "execution_count": 4
        }
      ]
    },
    {
      "cell_type": "code",
      "source": [
        "data=data.drop_duplicates()\n",
        "data.shape"
      ],
      "metadata": {
        "colab": {
          "base_uri": "https://localhost:8080/"
        },
        "id": "I1zrvq0P_KvV",
        "outputId": "2f6c2ed5-fcc9-4f78-e849-ca0d96f01b73"
      },
      "execution_count": 6,
      "outputs": [
        {
          "output_type": "execute_result",
          "data": {
            "text/plain": [
              "(1254, 10)"
            ]
          },
          "metadata": {},
          "execution_count": 6
        }
      ]
    },
    {
      "cell_type": "markdown",
      "source": [
        "Split Features and Targets"
      ],
      "metadata": {
        "id": "JdPuokMd_W_0"
      }
    },
    {
      "cell_type": "code",
      "source": [
        "Features= pd.DataFrame(data.drop(['indoor'],axis=1))\n",
        "Targets=(data.indoor.values)\n",
        "print(Features)\n",
        "print(Targets)"
      ],
      "metadata": {
        "colab": {
          "base_uri": "https://localhost:8080/"
        },
        "id": "B2dbsema_nIZ",
        "outputId": "5bae5744-8c99-43e6-8257-c99f65ac96ae"
      },
      "execution_count": 7,
      "outputs": [
        {
          "output_type": "stream",
          "name": "stdout",
          "text": [
            "      24:d3:f2:a7:b3:cd  b4:74:9f:ba:83:34  b0:89:00:74:7c:84  \\\n",
            "0                   -82                -48                -64   \n",
            "1                   -81                -69                -74   \n",
            "2                   -69                -64                -74   \n",
            "4                  -100                -45                -54   \n",
            "5                   -69                -63                -73   \n",
            "...                 ...                ...                ...   \n",
            "1251                -64                -74                -63   \n",
            "1252                -64                -80                -64   \n",
            "1253                -64                -75                -64   \n",
            "1254                -64                -74                -62   \n",
            "1255                -64                -75                -63   \n",
            "\n",
            "      9c:d6:43:cb:23:c0  30:99:35:90:32:9f  44:fb:5a:d2:d0:61  \\\n",
            "0                   -55               -100               -100   \n",
            "1                   -72               -100               -100   \n",
            "2                   -69                -67               -100   \n",
            "4                   -57               -100               -100   \n",
            "5                   -65               -100               -100   \n",
            "...                 ...                ...                ...   \n",
            "1251                -66                -88               -100   \n",
            "1252                -66                -87               -100   \n",
            "1253                -68               -100               -100   \n",
            "1254                -68                -87               -100   \n",
            "1255                -66               -100               -100   \n",
            "\n",
            "      d8:0d:17:db:be:92  10:10:81:ad:c4:92  f4:e3:fb:90:3a:a8  \n",
            "0                   -95               -100               -100  \n",
            "1                  -100               -100               -100  \n",
            "2                  -100               -100               -100  \n",
            "4                   -91               -100               -100  \n",
            "5                  -100               -100               -100  \n",
            "...                 ...                ...                ...  \n",
            "1251                -95                -66                -83  \n",
            "1252                -76                -66                -76  \n",
            "1253               -100                -66                -80  \n",
            "1254               -100                -66                -77  \n",
            "1255                -76                -66                -80  \n",
            "\n",
            "[1254 rows x 9 columns]\n",
            "[1 1 1 ... 0 0 0]\n"
          ]
        }
      ]
    },
    {
      "cell_type": "markdown",
      "source": [
        "Count Num of Ones (Indoor) and Zeros (Outdoor)"
      ],
      "metadata": {
        "id": "o8GgfC_nAVDX"
      }
    },
    {
      "cell_type": "code",
      "source": [
        "count_ones = np.sum(Targets== 1, axis=0)\n",
        "count_zeros = np.sum(Targets== 0, axis=0)\n",
        "print('ones',count_ones)\n",
        "print('zeros',count_zeros)"
      ],
      "metadata": {
        "colab": {
          "base_uri": "https://localhost:8080/"
        },
        "id": "WZztdUxIAii7",
        "outputId": "b13c4c00-fe38-4261-ee19-65b17035c6f2"
      },
      "execution_count": 8,
      "outputs": [
        {
          "output_type": "stream",
          "name": "stdout",
          "text": [
            "ones 654\n",
            "zeros 600\n"
          ]
        }
      ]
    },
    {
      "cell_type": "markdown",
      "source": [
        "**Model Seclections**"
      ],
      "metadata": {
        "id": "Fl3jHIrfWiUM"
      }
    },
    {
      "cell_type": "code",
      "source": [
        "list_models=[ SVC(), KNeighborsClassifier(), RandomForestClassifier(random_state=None),DecisionTreeClassifier()]\n",
        "\n",
        "def compare_models_train_test():\n",
        "    #Split X and y into training and validation sets\n",
        "    Features_train, Features_test, Targets_train, Targets_test = train_test_split(Features, Targets, test_size = 0.2, random_state = 42)\n",
        "    #print(X_train.shape, X_test.shape, y_train.shape, y_test.shape)\n",
        "    for model in list_models:\n",
        "        model.fit(Features_train,Targets_train)\n",
        "        Targets_prediction_train=model.predict(Features_train)\n",
        "        Targets_prediction_test=model.predict(Features_test)\n",
        "        score_of_model_train=accuracy_score(Targets_train, Targets_prediction_train)\n",
        "        score_of_model_test=accuracy_score(Targets_test,Targets_prediction_test)\n",
        "        print('Accuracy score (train) of the ', model, ' = ',  score_of_model_train)\n",
        "        print('Accuracy score (test) of the ', model, ' = ',  score_of_model_test)\n",
        "\n",
        "compare_models_train_test()"
      ],
      "metadata": {
        "id": "n76tqmINyCF_",
        "colab": {
          "base_uri": "https://localhost:8080/"
        },
        "outputId": "969bfeef-651a-43cf-cea8-6eba6a61a73e"
      },
      "execution_count": 27,
      "outputs": [
        {
          "output_type": "stream",
          "name": "stdout",
          "text": [
            "Accuracy score (train) of the  SVC()  =  0.9930209371884346\n",
            "Accuracy score (test) of the  SVC()  =  0.9800796812749004\n",
            "Accuracy score (train) of the  KNeighborsClassifier()  =  0.9970089730807578\n",
            "Accuracy score (test) of the  KNeighborsClassifier()  =  0.9760956175298805\n",
            "Accuracy score (train) of the  RandomForestClassifier()  =  1.0\n",
            "Accuracy score (test) of the  RandomForestClassifier()  =  0.9800796812749004\n",
            "Accuracy score (train) of the  DecisionTreeClassifier()  =  1.0\n",
            "Accuracy score (test) of the  DecisionTreeClassifier()  =  0.9601593625498008\n"
          ]
        }
      ]
    },
    {
      "cell_type": "markdown",
      "source": [
        "**Select Hyper Paramters**"
      ],
      "metadata": {
        "id": "a5hKXQl0WrVO"
      }
    },
    {
      "cell_type": "code",
      "source": [
        "\n",
        "\n",
        "# Split the data into training and testing sets\n",
        "Features_train, Features_test, Targets_train, Targets_test = train_test_split(Features, Targets, test_size = 0.2, random_state = 42)\n",
        "\n",
        "# Create a KNN classifier\n",
        "knn_classifier = KNeighborsClassifier()\n",
        "\n",
        "# Define the parameter grid to search\n",
        "param_grid = {\n",
        "    'n_neighbors': [3, 5, 7,4],\n",
        "    'weights': ['uniform', 'distance'],\n",
        "    'metric': ['euclidean', 'manhattan'],\n",
        "}\n",
        "\n",
        "# Create the GridSearchCV object\n",
        "grid_search = GridSearchCV(estimator=knn_classifier, param_grid=param_grid, cv=5)\n",
        "\n",
        "# Fit the GridSearchCV object to the data\n",
        "grid_search.fit(Features_train, Targets_train)\n",
        "\n",
        "# Print the best parameters found by GridSearchCV\n",
        "print(\"Best Parameters:\", grid_search.best_params_)\n",
        "\n",
        "# Get the best model\n",
        "best_model = grid_search.best_estimator_\n",
        "\n",
        "# Now you can use the best model for predictions\n",
        "predictions = best_model.predict(Features_test)\n"
      ],
      "metadata": {
        "id": "ep8dZxQYyWmw",
        "colab": {
          "base_uri": "https://localhost:8080/"
        },
        "outputId": "22719d6a-4d2c-413f-fa7e-6334e93c6937"
      },
      "execution_count": 29,
      "outputs": [
        {
          "output_type": "stream",
          "name": "stdout",
          "text": [
            "Best Parameters: {'metric': 'euclidean', 'n_neighbors': 7, 'weights': 'distance'}\n"
          ]
        }
      ]
    },
    {
      "cell_type": "markdown",
      "source": [
        "Split Features To Train &Test then fit the model"
      ],
      "metadata": {
        "id": "Q_aO-7iHAt-D"
      }
    },
    {
      "cell_type": "code",
      "source": [
        "Features_train, Features_test, Targets_train, Targets_test = train_test_split(Features, Targets, test_size = 0.2, random_state = 42)\n",
        "KNN = KNeighborsClassifier(metric='manhattan', n_neighbors=7, weights='uniform')\n",
        "KNN.fit(Features_train,Targets_train)\n"
      ],
      "metadata": {
        "colab": {
          "base_uri": "https://localhost:8080/",
          "height": 74
        },
        "id": "i4xyatihBOMD",
        "outputId": "f037d620-d8de-4b81-e047-6e630e544b6d"
      },
      "execution_count": 30,
      "outputs": [
        {
          "output_type": "execute_result",
          "data": {
            "text/plain": [
              "KNeighborsClassifier(metric='manhattan', n_neighbors=7)"
            ],
            "text/html": [
              "<style>#sk-container-id-3 {color: black;background-color: white;}#sk-container-id-3 pre{padding: 0;}#sk-container-id-3 div.sk-toggleable {background-color: white;}#sk-container-id-3 label.sk-toggleable__label {cursor: pointer;display: block;width: 100%;margin-bottom: 0;padding: 0.3em;box-sizing: border-box;text-align: center;}#sk-container-id-3 label.sk-toggleable__label-arrow:before {content: \"▸\";float: left;margin-right: 0.25em;color: #696969;}#sk-container-id-3 label.sk-toggleable__label-arrow:hover:before {color: black;}#sk-container-id-3 div.sk-estimator:hover label.sk-toggleable__label-arrow:before {color: black;}#sk-container-id-3 div.sk-toggleable__content {max-height: 0;max-width: 0;overflow: hidden;text-align: left;background-color: #f0f8ff;}#sk-container-id-3 div.sk-toggleable__content pre {margin: 0.2em;color: black;border-radius: 0.25em;background-color: #f0f8ff;}#sk-container-id-3 input.sk-toggleable__control:checked~div.sk-toggleable__content {max-height: 200px;max-width: 100%;overflow: auto;}#sk-container-id-3 input.sk-toggleable__control:checked~label.sk-toggleable__label-arrow:before {content: \"▾\";}#sk-container-id-3 div.sk-estimator input.sk-toggleable__control:checked~label.sk-toggleable__label {background-color: #d4ebff;}#sk-container-id-3 div.sk-label input.sk-toggleable__control:checked~label.sk-toggleable__label {background-color: #d4ebff;}#sk-container-id-3 input.sk-hidden--visually {border: 0;clip: rect(1px 1px 1px 1px);clip: rect(1px, 1px, 1px, 1px);height: 1px;margin: -1px;overflow: hidden;padding: 0;position: absolute;width: 1px;}#sk-container-id-3 div.sk-estimator {font-family: monospace;background-color: #f0f8ff;border: 1px dotted black;border-radius: 0.25em;box-sizing: border-box;margin-bottom: 0.5em;}#sk-container-id-3 div.sk-estimator:hover {background-color: #d4ebff;}#sk-container-id-3 div.sk-parallel-item::after {content: \"\";width: 100%;border-bottom: 1px solid gray;flex-grow: 1;}#sk-container-id-3 div.sk-label:hover label.sk-toggleable__label {background-color: #d4ebff;}#sk-container-id-3 div.sk-serial::before {content: \"\";position: absolute;border-left: 1px solid gray;box-sizing: border-box;top: 0;bottom: 0;left: 50%;z-index: 0;}#sk-container-id-3 div.sk-serial {display: flex;flex-direction: column;align-items: center;background-color: white;padding-right: 0.2em;padding-left: 0.2em;position: relative;}#sk-container-id-3 div.sk-item {position: relative;z-index: 1;}#sk-container-id-3 div.sk-parallel {display: flex;align-items: stretch;justify-content: center;background-color: white;position: relative;}#sk-container-id-3 div.sk-item::before, #sk-container-id-3 div.sk-parallel-item::before {content: \"\";position: absolute;border-left: 1px solid gray;box-sizing: border-box;top: 0;bottom: 0;left: 50%;z-index: -1;}#sk-container-id-3 div.sk-parallel-item {display: flex;flex-direction: column;z-index: 1;position: relative;background-color: white;}#sk-container-id-3 div.sk-parallel-item:first-child::after {align-self: flex-end;width: 50%;}#sk-container-id-3 div.sk-parallel-item:last-child::after {align-self: flex-start;width: 50%;}#sk-container-id-3 div.sk-parallel-item:only-child::after {width: 0;}#sk-container-id-3 div.sk-dashed-wrapped {border: 1px dashed gray;margin: 0 0.4em 0.5em 0.4em;box-sizing: border-box;padding-bottom: 0.4em;background-color: white;}#sk-container-id-3 div.sk-label label {font-family: monospace;font-weight: bold;display: inline-block;line-height: 1.2em;}#sk-container-id-3 div.sk-label-container {text-align: center;}#sk-container-id-3 div.sk-container {/* jupyter's `normalize.less` sets `[hidden] { display: none; }` but bootstrap.min.css set `[hidden] { display: none !important; }` so we also need the `!important` here to be able to override the default hidden behavior on the sphinx rendered scikit-learn.org. See: https://github.com/scikit-learn/scikit-learn/issues/21755 */display: inline-block !important;position: relative;}#sk-container-id-3 div.sk-text-repr-fallback {display: none;}</style><div id=\"sk-container-id-3\" class=\"sk-top-container\"><div class=\"sk-text-repr-fallback\"><pre>KNeighborsClassifier(metric=&#x27;manhattan&#x27;, n_neighbors=7)</pre><b>In a Jupyter environment, please rerun this cell to show the HTML representation or trust the notebook. <br />On GitHub, the HTML representation is unable to render, please try loading this page with nbviewer.org.</b></div><div class=\"sk-container\" hidden><div class=\"sk-item\"><div class=\"sk-estimator sk-toggleable\"><input class=\"sk-toggleable__control sk-hidden--visually\" id=\"sk-estimator-id-3\" type=\"checkbox\" checked><label for=\"sk-estimator-id-3\" class=\"sk-toggleable__label sk-toggleable__label-arrow\">KNeighborsClassifier</label><div class=\"sk-toggleable__content\"><pre>KNeighborsClassifier(metric=&#x27;manhattan&#x27;, n_neighbors=7)</pre></div></div></div></div></div>"
            ]
          },
          "metadata": {},
          "execution_count": 30
        }
      ]
    },
    {
      "cell_type": "markdown",
      "source": [
        "**Calculations of Accuracy and classification_report**"
      ],
      "metadata": {
        "id": "Lc1LXg9sBYaK"
      }
    },
    {
      "cell_type": "code",
      "source": [
        "#Accuracy\n",
        "Targets_prediction_train=KNN.predict(Features_train)\n",
        "score_of_model_Train=accuracy_score(Targets_prediction_train, Targets_train)\n",
        "print('Accuracy score of the train', KNN, ' = ',  score_of_model_Train)\n",
        "Targets_prediction_test=KNN.predict(Features_test)\n",
        "score_of_model_Test=accuracy_score(Targets_test, Targets_prediction_test)\n",
        "print('Accuracy score of the test', KNN, ' = ',  score_of_model_Test)\n",
        "#variance ,Bias and MSE\n",
        "bias = np.mean((Targets_prediction_train-Targets_train ) ** 2)\n",
        "variance = np.mean((Targets_prediction_train - np.mean(Targets_train)) ** 2)\n",
        "mse_train = mean_squared_error(Targets_train,Targets_prediction_train)\n",
        "print(f\"Bias: {bias:.4f}\")\n",
        "print(f\"Variance: {variance:.4f}\")\n",
        "print(f\"MSE on training set: {mse_train:.4f}\")\n",
        "\n",
        "#classification_report\n",
        "confusion_matrix = metrics.confusion_matrix(Targets_test,Targets_prediction_test)\n",
        "print(confusion_matrix)\n",
        "cm_display = metrics.ConfusionMatrixDisplay(confusion_matrix = confusion_matrix)\n",
        "cm_display.plot()\n",
        "plt.show()\n",
        "classification_report(Targets_test,Targets_prediction_test)\n",
        "print(classification_report(Targets_test,Targets_prediction_test))\n"
      ],
      "metadata": {
        "colab": {
          "base_uri": "https://localhost:8080/",
          "height": 727
        },
        "id": "zEjRdvpsBxqx",
        "outputId": "50e98a58-fda5-4f55-fe32-482f08bdac1d"
      },
      "execution_count": 31,
      "outputs": [
        {
          "output_type": "stream",
          "name": "stdout",
          "text": [
            "Accuracy score of the train KNeighborsClassifier(metric='manhattan', n_neighbors=7)  =  0.996011964107677\n",
            "Accuracy score of the test KNeighborsClassifier(metric='manhattan', n_neighbors=7)  =  0.9920318725099602\n",
            "Bias: 0.0040\n",
            "Variance: 0.2500\n",
            "MSE on training set: 0.0040\n",
            "[[102   0]\n",
            " [  2 147]]\n"
          ]
        },
        {
          "output_type": "display_data",
          "data": {
            "text/plain": [
              "<Figure size 640x480 with 2 Axes>"
            ],
            "image/png": "[encoded data removed]"
          },
          "metadata": {}
        },
        {
          "output_type": "stream",
          "name": "stdout",
          "text": [
            "              precision    recall  f1-score   support\n",
            "\n",
            "           0       0.98      1.00      0.99       102\n",
            "           1       1.00      0.99      0.99       149\n",
            "\n",
            "    accuracy                           0.99       251\n",
            "   macro avg       0.99      0.99      0.99       251\n",
            "weighted avg       0.99      0.99      0.99       251\n",
            "\n"
          ]
        }
      ]
    },
    {
      "cell_type": "markdown",
      "source": [
        "**This section for Testing New data**"
      ],
      "metadata": {
        "id": "hx_f6oBMXN3R"
      }
    },
    {
      "cell_type": "code",
      "source": [
        "path='/content/drive/MyDrive/Dataset/Real Data/Room1/Room1-test.csv'\n",
        "df=pd.read_csv(path)\n",
        "##data=pd.DataFrame(data.drop(['roomNum'],axis=1))\n",
        "true_values=(data.indoor.values)\n",
        "data= pd.DataFrame(df.drop(['indoor'],axis=1))\n",
        "print(data)\n",
        "print(true_values)\n",
        "\n",
        "data.isnull().values.any()\n",
        "data=data.drop_duplicates()\n",
        "count_ones = np.sum(true_values== 1, axis=0)\n",
        "count_zeros = np.sum(true_values== 0, axis=0)\n",
        "print('ones',count_ones)\n",
        "print('zeros',count_zeros)\n"
      ],
      "metadata": {
        "colab": {
          "base_uri": "https://localhost:8080/"
        },
        "id": "zK7opCZ_yk2k",
        "outputId": "9dedd85e-c3ce-4639-8502-51c54cb0c219"
      },
      "execution_count": 45,
      "outputs": [
        {
          "output_type": "stream",
          "name": "stdout",
          "text": [
            "     24:d3:f2:a7:b3:cd  b4:74:9f:ba:83:34  b0:89:00:74:7c:84  \\\n",
            "0                  -72                -53                -68   \n",
            "1                 -100                -47                -69   \n",
            "2                  -68                -56                -77   \n",
            "3                  -64                -62                -77   \n",
            "4                 -100                -39                -57   \n",
            "..                 ...                ...                ...   \n",
            "114                -77                -64                -69   \n",
            "115                -76                -50                -55   \n",
            "116               -100                -47                -55   \n",
            "117               -100                -48                -55   \n",
            "118                -75                -50                -55   \n",
            "\n",
            "     9c:d6:43:cb:23:c0  30:99:35:90:32:9f  44:fb:5a:d2:d0:61  \\\n",
            "0                  -60                -80               -100   \n",
            "1                  -55               -100               -100   \n",
            "2                  -63                -81               -100   \n",
            "3                  -61                -73               -100   \n",
            "4                  -51                -79               -100   \n",
            "..                 ...                ...                ...   \n",
            "114                -61                -78                -91   \n",
            "115                -65                -83               -100   \n",
            "116                -64                -83               -100   \n",
            "117                -66                -84               -100   \n",
            "118                -65               -100               -100   \n",
            "\n",
            "     d8:0d:17:db:be:92  10:10:81:ad:c4:92  f4:e3:fb:90:3a:a8  \n",
            "0                  -96               -100               -100  \n",
            "1                 -100               -100               -100  \n",
            "2                 -100               -100               -100  \n",
            "3                 -100               -100               -100  \n",
            "4                  -96               -100               -100  \n",
            "..                 ...                ...                ...  \n",
            "114                -94               -100                -93  \n",
            "115                -94               -100               -100  \n",
            "116               -100               -100               -100  \n",
            "117                -99               -100                -90  \n",
            "118                -94               -100                -90  \n",
            "\n",
            "[119 rows x 9 columns]\n",
            "[1 1 1 1 1 1 1 1 1 1 1 1 1 1 1 1 1 1 1 1 1 1 1 1 1 1 1 1 1 1 1 1 1 1 1 1 1\n",
            " 1 1 1 1 1 1 1 1 1 1 1 1 1 1 1 1 1 1 1 1 1 1 1 1 1 1 1 1 1 1 1 0 0 0 0 0 0\n",
            " 0 0 0 0 0 0 0 0 0 0 1 1 1 1 0 0 0 0 0 0 0 0 0 0 0 0 0 0 0 0 0 1 1 1 1 1 1\n",
            " 1 1]\n",
            "ones 80\n",
            "zeros 33\n"
          ]
        }
      ]
    },
    {
      "cell_type": "code",
      "source": [
        "\n",
        "predicted_values=KNN.predict(data)\n",
        "score_of_model_Test=accuracy_score(true_values, predicted_values)\n",
        "print('Accuracy score of the test', KNN, ' = ',  score_of_model_Test)\n",
        "\n",
        "#classification_report\n",
        "confusion_matrix = metrics.confusion_matrix(true_values,predicted_values)\n",
        "print(confusion_matrix)\n",
        "cm_display = metrics.ConfusionMatrixDisplay(confusion_matrix = confusion_matrix)\n",
        "cm_display.plot()\n",
        "plt.show()\n",
        "classification_report(true_values,predicted_values)\n",
        "print(classification_report(true_values,predicted_values))\n"
      ],
      "metadata": {
        "colab": {
          "base_uri": "https://localhost:8080/",
          "height": 663
        },
        "id": "TUgKi4B3y_mn",
        "outputId": "3b31ba16-d8e5-49f4-f3c9-44f14cc4a3de"
      },
      "execution_count": 46,
      "outputs": [
        {
          "output_type": "stream",
          "name": "stdout",
          "text": [
            "Accuracy score of the test KNeighborsClassifier(metric='manhattan', n_neighbors=7)  =  0.9911504424778761\n",
            "[[32  1]\n",
            " [ 0 80]]\n"
          ]
        },
        {
          "output_type": "display_data",
          "data": {
            "text/plain": [
              "<Figure size 640x480 with 2 Axes>"
            ],
            "image/png": "[encoded data removed]"
          },
          "metadata": {}
        },
        {
          "output_type": "stream",
          "name": "stdout",
          "text": [
            "              precision    recall  f1-score   support\n",
            "\n",
            "           0       1.00      0.97      0.98        33\n",
            "           1       0.99      1.00      0.99        80\n",
            "\n",
            "    accuracy                           0.99       113\n",
            "   macro avg       0.99      0.98      0.99       113\n",
            "weighted avg       0.99      0.99      0.99       113\n",
            "\n"
          ]
        }
      ]
    }
  ]
}